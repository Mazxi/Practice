{
  "nbformat": 4,
  "nbformat_minor": 0,
  "metadata": {
    "colab": {
      "provenance": [],
      "authorship_tag": "ABX9TyOBlam9T+mK0ey7sm96FQ1l",
      "include_colab_link": true
    },
    "kernelspec": {
      "name": "python3",
      "display_name": "Python 3"
    },
    "language_info": {
      "name": "python"
    }
  },
  "cells": [
    {
      "cell_type": "markdown",
      "metadata": {
        "id": "view-in-github",
        "colab_type": "text"
      },
      "source": [
        "<a href=\"https://colab.research.google.com/github/Mazxi/Practice/blob/main/Christmas_Exercise.ipynb\" target=\"_parent\"><img src=\"https://colab.research.google.com/assets/colab-badge.svg\" alt=\"Open In Colab\"/></a>"
      ]
    },
    {
      "cell_type": "code",
      "source": [
        "# Practice Excercise 1"
      ],
      "metadata": {
        "id": "XOtvsJXhHZd3"
      },
      "execution_count": null,
      "outputs": []
    },
    {
      "cell_type": "code",
      "source": [],
      "metadata": {
        "id": "Daefvzi1fYWd"
      },
      "execution_count": null,
      "outputs": []
    },
    {
      "cell_type": "markdown",
      "source": [
        "Exercise 1: Convert an Integer to its Ordinal Number\n",
        "(47 Lines)\n",
        "Words like first, second and third are referred to as ordinal numbers. In this exercise,\n",
        "you will write a function that takes an integer as its only parameter and returns a\n",
        "string containing the appropriate English ordinal number as its only result. Your\n",
        "function must handle the integers between 1 and 12 (inclusive). It should return an\n",
        "empty string if a value outside of this range is provided as a parameter. Include a\n",
        "main program that demonstrates your function by displaying each integer from 1 to\n",
        "12 and its ordinal number. Your main program should only run when your file has\n",
        "not been imported into another program."
      ],
      "metadata": {
        "id": "rCmr25c9G4hV"
      }
    },
    {
      "cell_type": "code",
      "source": [
        "# Solution 1"
      ],
      "metadata": {
        "id": "BpJJ98TLHUhG"
      },
      "execution_count": null,
      "outputs": []
    },
    {
      "cell_type": "code",
      "source": [
        "def ordinal_converter(num):\n",
        "\"\"\"This function accepts a number and return the ordinal of that number\"\"\"\n",
        "    ordinal_number = {\"first\": 1, \"second\": 2, \"third\": 3, \"fourth\": 4, \"fifth\": 5, \"sixth\": 6, \"seventh\": 7,\n",
        " \"eighth\": 8, \"ninth\": 9, \"tenth\": 10, \"eleventh\": 11, \"twelfth\" :12} # stores the values that will be inclusive here\n",
        "    ordinals = list(ordinal_number.keys()) # stores the ordinal here\n",
        "    for i in range(len(ordinals)):\n",
        "        if num == i+1:\n",
        "            return ordinals[i]\n",
        "    return ' ' # returns space if input is not between 0 and 12"
      ],
      "metadata": {
        "id": "mCQu0J_dlqch"
      },
      "execution_count": null,
      "outputs": []
    },
    {
      "cell_type": "code",
      "source": [
        "\n",
        "num = int(input(\"Please enter a value between 1-12: \"))\n",
        "ordinal_converter(num)"
      ],
      "metadata": {
        "colab": {
          "base_uri": "https://localhost:8080/",
          "height": 72
        },
        "id": "Oj7CkGUbnOML",
        "outputId": "57d84977-7a0d-42ae-85f7-b668000a9309"
      },
      "execution_count": null,
      "outputs": [
        {
          "name": "stdout",
          "output_type": "stream",
          "text": [
            "Please enter a value between 1-12: 4\n"
          ]
        },
        {
          "output_type": "execute_result",
          "data": {
            "text/plain": [
              "'fourth'"
            ],
            "application/vnd.google.colaboratory.intrinsic+json": {
              "type": "string"
            }
          },
          "metadata": {},
          "execution_count": 6
        }
      ]
    },
    {
      "cell_type": "code",
      "source": [],
      "metadata": {
        "id": "ryVUE6XX27mc"
      },
      "execution_count": null,
      "outputs": []
    },
    {
      "cell_type": "code",
      "source": [
        "def main():\n",
        "    num = int(input(\"Please enter a value between 1-12: \"))\n",
        "    ordinal = ordinal_converter(num)\n",
        "    print(ordinal)"
      ],
      "metadata": {
        "id": "uJcuzu7C2sCe"
      },
      "execution_count": null,
      "outputs": []
    },
    {
      "cell_type": "code",
      "source": [
        "if __name__ == \"__main__\":\n",
        "    main()"
      ],
      "metadata": {
        "colab": {
          "base_uri": "https://localhost:8080/"
        },
        "id": "xe6rXx6Q31mW",
        "outputId": "de5e3f9c-ace1-4cf5-f699-9cfdd0dbf42b"
      },
      "execution_count": null,
      "outputs": [
        {
          "output_type": "stream",
          "name": "stdout",
          "text": [
            "Please enter a value between 1-12: 3\n",
            "third\n"
          ]
        }
      ]
    },
    {
      "cell_type": "code",
      "source": [
        "for i in range(10):\n",
        "    print(i)"
      ],
      "metadata": {
        "colab": {
          "base_uri": "https://localhost:8080/"
        },
        "id": "glU4MpfDtvxC",
        "outputId": "b45a3e3b-34a2-48e6-d0f6-84e4e86c51d2"
      },
      "execution_count": null,
      "outputs": [
        {
          "output_type": "stream",
          "name": "stdout",
          "text": [
            "0\n",
            "1\n",
            "2\n",
            "3\n",
            "4\n",
            "5\n",
            "6\n",
            "7\n",
            "8\n",
            "9\n"
          ]
        }
      ]
    },
    {
      "cell_type": "code",
      "source": [
        "# Exercise 2"
      ],
      "metadata": {
        "id": "SRyAB6HSFzG0"
      },
      "execution_count": null,
      "outputs": []
    },
    {
      "cell_type": "markdown",
      "source": [
        "Exercise 2:The Twelve Days of Christmas\n",
        "(Solved—48 Lines)\n",
        "The Twelve Days of Christmas is a repetitive song that describes an increasingly\n",
        "long list of gifts sent to one’s true love on each of 12 days. A single gift is sent on\n",
        "the first day. A new gift is added to the collection on each additional day, and then\n",
        "the complete collection is sent. The first three verses of the song are shown below.\n",
        "The complete lyrics are available on the internet.\n",
        "On the first day of Christmas\n",
        "my true love sent to me:\n",
        "A partridge in a pear tree.\n",
        "On the second day of Christmas\n",
        "my true love sent to me:\n",
        "Two turtle doves,\n",
        "And a partridge in a pear tree.\n",
        "On the third day of Christmas\n",
        "my true love sent to me:\n",
        "Three French hens,\n",
        "Two turtle doves,\n",
        "And a partridge in a pear tree.\n",
        "Your task is to write a program that displays the complete lyrics for The Twelve\n",
        "Days of Christmas. Write a function that takes the verse number as its only parameter\n",
        "and displays the specified verse of the song. Then call that function 12 times with\n",
        "integers that increase from 1 to 12.\n",
        "Each item that is sent to the recipient in the song should only appear once in your\n",
        "program, with the possible exception of the partridge. It may appear twice if that\n",
        "helps you handle the difference between “A partridge in a pear tree” in the first verse\n",
        "and “And a partridge in a pear tree” in the subsequent verses. Import your solution\n",
        "to Exercise 85 to help you complete this exercise."
      ],
      "metadata": {
        "id": "_vb1KWvKGYJx"
      }
    },
    {
      "cell_type": "markdown",
      "source": [
        "On the twelfth day of Christmas\n",
        "my true love sent to me:\n",
        "12 Drummers Drumming\n",
        "11 Pipers Piping\n",
        "10 Lords a Leaping\n",
        "9 Ladies Dancing\n",
        "8 Maids a Milking\n",
        "7 Swans a Swimming\n",
        "6 Geese a Laying\n",
        "5 Golden Rings\n",
        "4 Calling Birds\n",
        "3 French Hens\n",
        "2 Turtle Doves\n",
        "and a Partridge in a Pear Tree"
      ],
      "metadata": {
        "id": "ZMBI-9hsJd6d"
      }
    },
    {
      "cell_type": "code",
      "source": [
        "\n",
        "num = int(input(\"Enter the number of days: \")) #inputs\n",
        "# Dictionary of the verses and the verse number\n",
        "dic = {\"and a Partridge in a Pear Tree\" : 1, \"2 Turtle Doves\" : 2, \"3 French Hens\" : 3, \"4 Calling Birds\": 4, \"5 Golden Rings\": 5, \"6 Geese a Laying\": 6, \"7 Swans a Swimming\": 7, \"8 Maids a Milking\": 8, \"9 Ladies Dancing\" : 9, \"10 Lords a Leaping\" : 10, \"11 Pipers Piping\": 11, \"12 Drummers Drumming\": 12}\n",
        "gifts = list(dic.keys())\n",
        "start of for loop that loops through the gifts list\n",
        "for i in range(num, 0, -1):\n",
        "    ordinal = ordinal_converter(i)\n",
        "    print(\"\\n\")\n",
        "    print(\"On the {} of Christmas my true sent to me\".format(ordinal))\n",
        "    for j in range(i, 0, -1):\n",
        "        print(gifts[j-1])"
      ],
      "metadata": {
        "id": "b_lljg8BF5ud",
        "colab": {
          "base_uri": "https://localhost:8080/"
        },
        "outputId": "a5f96465-98c2-4a0c-9fe6-ab3b42664558"
      },
      "execution_count": null,
      "outputs": [
        {
          "output_type": "stream",
          "name": "stdout",
          "text": [
            "Enter the number of days: 8\n",
            "\n",
            "\n",
            "On the eighth day of Christmas my true sent to me\n",
            "8 Maids a Milking\n",
            "7 Swans a Swimming\n",
            "6 Geese a Laying\n",
            "5 Golden Rings\n",
            "4 Calling Birds\n",
            "3 French Hens\n",
            "2 Turtle Doves\n",
            "and a Partridge in a Pear Tree\n",
            "\n",
            "\n",
            "On the seventh day of Christmas my true sent to me\n",
            "7 Swans a Swimming\n",
            "6 Geese a Laying\n",
            "5 Golden Rings\n",
            "4 Calling Birds\n",
            "3 French Hens\n",
            "2 Turtle Doves\n",
            "and a Partridge in a Pear Tree\n",
            "\n",
            "\n",
            "On the sixth day of Christmas my true sent to me\n",
            "6 Geese a Laying\n",
            "5 Golden Rings\n",
            "4 Calling Birds\n",
            "3 French Hens\n",
            "2 Turtle Doves\n",
            "and a Partridge in a Pear Tree\n",
            "\n",
            "\n",
            "On the fifth day of Christmas my true sent to me\n",
            "5 Golden Rings\n",
            "4 Calling Birds\n",
            "3 French Hens\n",
            "2 Turtle Doves\n",
            "and a Partridge in a Pear Tree\n",
            "\n",
            "\n",
            "On the fourth day of Christmas my true sent to me\n",
            "4 Calling Birds\n",
            "3 French Hens\n",
            "2 Turtle Doves\n",
            "and a Partridge in a Pear Tree\n",
            "\n",
            "\n",
            "On the third day of Christmas my true sent to me\n",
            "3 French Hens\n",
            "2 Turtle Doves\n",
            "and a Partridge in a Pear Tree\n",
            "\n",
            "\n",
            "On the second day of Christmas my true sent to me\n",
            "2 Turtle Doves\n",
            "and a Partridge in a Pear Tree\n",
            "\n",
            "\n",
            "On the first day of Christmas my true sent to me\n",
            "and a Partridge in a Pear Tree\n"
          ]
        }
      ]
    },
    {
      "cell_type": "code",
      "source": [
        "def christmas_verse(num):\n",
        "\"\"\"This function takes in the verse of the poem and prints out the poem from that verse\"\"\"\n",
        "    dic = {\"and a Partridge in a Pear Tree\" : 1, \"2 Turtle Doves\" : 2, \"3 French Hens\" : 3, \"4 Calling Birds\": 4, \"5 Golden Rings\": 5, \"6 Geese a Laying\": 6, \"7 Swans a Swimming\": 7, \"8 Maids a Milking\": 8, \"9 Ladies Dancing\" : 9, \"10 Lords a Leaping\" : 10, \"11 Pipers Piping\": 11, \"12 Drummers Drumming\": 12}\n",
        "    list of the keys from the dictionary\n",
        "    gifts = list(dic.keys())\n",
        "    #start of the for loop that iterates through the gifts list\n",
        "    for i in range(num, 0, -1):\n",
        "        ordinal = ordinal_converter(i)\n",
        "        print(\"\\n\")\n",
        "        print(\"On the {} day of Christmas my true sent to me\".format(ordinal))\n",
        "        for j in range(i, 0, -1):\n",
        "            print(gifts[j-1])"
      ],
      "metadata": {
        "id": "HtxOlpSH46Xc"
      },
      "execution_count": null,
      "outputs": []
    },
    {
      "cell_type": "code",
      "source": [
        "christmas_verse(12)"
      ],
      "metadata": {
        "colab": {
          "base_uri": "https://localhost:8080/"
        },
        "id": "YsaDl2NqECl1",
        "outputId": "f66d5707-0a79-4081-dcb6-19821cd74e95"
      },
      "execution_count": null,
      "outputs": [
        {
          "output_type": "stream",
          "name": "stdout",
          "text": [
            "\n",
            "\n",
            "On the twelfth day of Christmas my true sent to me\n",
            "12 Drummers Drumming\n",
            "11 Pipers Piping\n",
            "10 Lords a Leaping\n",
            "9 Ladies Dancing\n",
            "8 Maids a Milking\n",
            "7 Swans a Swimming\n",
            "6 Geese a Laying\n",
            "5 Golden Rings\n",
            "4 Calling Birds\n",
            "3 French Hens\n",
            "2 Turtle Doves\n",
            "and a Partridge in a Pear Tree\n",
            "\n",
            "\n",
            "On the eleventh day of Christmas my true sent to me\n",
            "11 Pipers Piping\n",
            "10 Lords a Leaping\n",
            "9 Ladies Dancing\n",
            "8 Maids a Milking\n",
            "7 Swans a Swimming\n",
            "6 Geese a Laying\n",
            "5 Golden Rings\n",
            "4 Calling Birds\n",
            "3 French Hens\n",
            "2 Turtle Doves\n",
            "and a Partridge in a Pear Tree\n",
            "\n",
            "\n",
            "On the tenth day of Christmas my true sent to me\n",
            "10 Lords a Leaping\n",
            "9 Ladies Dancing\n",
            "8 Maids a Milking\n",
            "7 Swans a Swimming\n",
            "6 Geese a Laying\n",
            "5 Golden Rings\n",
            "4 Calling Birds\n",
            "3 French Hens\n",
            "2 Turtle Doves\n",
            "and a Partridge in a Pear Tree\n",
            "\n",
            "\n",
            "On the ninth day of Christmas my true sent to me\n",
            "9 Ladies Dancing\n",
            "8 Maids a Milking\n",
            "7 Swans a Swimming\n",
            "6 Geese a Laying\n",
            "5 Golden Rings\n",
            "4 Calling Birds\n",
            "3 French Hens\n",
            "2 Turtle Doves\n",
            "and a Partridge in a Pear Tree\n",
            "\n",
            "\n",
            "On the eighth day of Christmas my true sent to me\n",
            "8 Maids a Milking\n",
            "7 Swans a Swimming\n",
            "6 Geese a Laying\n",
            "5 Golden Rings\n",
            "4 Calling Birds\n",
            "3 French Hens\n",
            "2 Turtle Doves\n",
            "and a Partridge in a Pear Tree\n",
            "\n",
            "\n",
            "On the seventh day of Christmas my true sent to me\n",
            "7 Swans a Swimming\n",
            "6 Geese a Laying\n",
            "5 Golden Rings\n",
            "4 Calling Birds\n",
            "3 French Hens\n",
            "2 Turtle Doves\n",
            "and a Partridge in a Pear Tree\n",
            "\n",
            "\n",
            "On the sixth day of Christmas my true sent to me\n",
            "6 Geese a Laying\n",
            "5 Golden Rings\n",
            "4 Calling Birds\n",
            "3 French Hens\n",
            "2 Turtle Doves\n",
            "and a Partridge in a Pear Tree\n",
            "\n",
            "\n",
            "On the fifth day of Christmas my true sent to me\n",
            "5 Golden Rings\n",
            "4 Calling Birds\n",
            "3 French Hens\n",
            "2 Turtle Doves\n",
            "and a Partridge in a Pear Tree\n",
            "\n",
            "\n",
            "On the fourth day of Christmas my true sent to me\n",
            "4 Calling Birds\n",
            "3 French Hens\n",
            "2 Turtle Doves\n",
            "and a Partridge in a Pear Tree\n",
            "\n",
            "\n",
            "On the third day of Christmas my true sent to me\n",
            "3 French Hens\n",
            "2 Turtle Doves\n",
            "and a Partridge in a Pear Tree\n",
            "\n",
            "\n",
            "On the second day of Christmas my true sent to me\n",
            "2 Turtle Doves\n",
            "and a Partridge in a Pear Tree\n",
            "\n",
            "\n",
            "On the first day of Christmas my true sent to me\n",
            "and a Partridge in a Pear Tree\n"
          ]
        }
      ]
    },
    {
      "cell_type": "markdown",
      "source": [],
      "metadata": {
        "id": "nTDoyGGoJa0d"
      }
    }
  ]
}