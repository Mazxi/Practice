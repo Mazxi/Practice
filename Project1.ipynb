{
 "cells": [
  {
   "cell_type": "code",
   "execution_count": 2,
   "metadata": {},
   "outputs": [],
   "source": [
    "import numpy as np\n",
    "def calculate(value): ## this is just a function to convert a string to two dimensional 3 by 3 array\n",
    "    try: ## this is where the exception begins\n",
    "        result = np.array(value).reshape(3,3) ## converts the value here to a one dimensional array, then reshapes it to 3 by 3 array\n",
    "        dic = {\n",
    "            \n",
    "            \n",
    "               \"mean\": [((result.mean(axis=0)).tolist()), ((result.mean(axis=1)).tolist()), (result.mean())],\n",
    "               \"variance\": [((result.var(axis=0)).tolist()), ((result.var(axis=1)).tolist()), (result.var())],\n",
    "               \"standard deviation\": [((result.std(axis=0)).tolist()), ((result.std(axis=1)).tolist()), (result.std())],\n",
    "               \"max\": [((result.max(axis=0)).tolist()), ((result.max(axis=1)).tolist()), (result.max())],\n",
    "               \"min\": [((result.min(axis=0)).tolist()), ((result.min(axis=1)).tolist()), (result.min())],\n",
    "               \"sum\": [((result.sum(axis=0)).tolist()), ((result.sum(axis=1)).tolist()), (result.sum())]\n",
    "            \n",
    "            \n",
    "                  }\n",
    "       ## above this line is a dictionary that returns the result computed\n",
    "        return dic\n",
    "    except(ValueError):\n",
    "        return \"List must contain nine integer numbers\""
   ]
  }
 ],
 "metadata": {
  "kernelspec": {
   "display_name": "Python 3",
   "language": "python",
   "name": "python3"
  },
  "language_info": {
   "codemirror_mode": {
    "name": "ipython",
    "version": 3
   },
   "file_extension": ".py",
   "mimetype": "text/x-python",
   "name": "python",
   "nbconvert_exporter": "python",
   "pygments_lexer": "ipython3",
   "version": "3.7.3"
  }
 },
 "nbformat": 4,
 "nbformat_minor": 2
}
